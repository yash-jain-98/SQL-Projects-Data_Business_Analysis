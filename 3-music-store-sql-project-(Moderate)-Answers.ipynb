{
 "cells": [
  {
   "cell_type": "markdown",
   "id": "3edd78a9",
   "metadata": {},
   "source": [
    "## Q1: Write query to return the email, first name, last name, & Genre of all Rock Music listeners. Return your list ordered alphabetically by email starting with A."
   ]
  },
  {
   "cell_type": "markdown",
   "id": "3ee16a8e",
   "metadata": {},
   "source": []
  },
  {
   "cell_type": "code",
   "execution_count": 3,
   "id": "0486764a",
   "metadata": {},
   "outputs": [
    {
     "data": {
      "text/plain": [
       "\"SELECT DISTINCT email AS Email,first_name AS FirstName, last_name AS LastName, genre.name AS Name\\nFROM customer\\nJOIN invoice ON invoice.customer_id = customer.customer_id\\nJOIN invoiceline ON invoiceline.invoice_id = invoice.invoice_id\\nJOIN track ON track.track_id = invoiceline.track_id\\nJOIN genre ON genre.genre_id = track.genre_id\\nWHERE genre.name LIKE 'Rock'\\nORDER BY email;\""
      ]
     },
     "execution_count": 3,
     "metadata": {},
     "output_type": "execute_result"
    }
   ],
   "source": [
    "#/*Method 1 */\n",
    "\n",
    "'''SELECT DISTINCT email,first_name, last_name\n",
    "FROM customer\n",
    "JOIN invoice ON customer.customer_id = invoice.customer_id\n",
    "JOIN invoiceline ON invoice.invoice_id = invoiceline.invoice_id\n",
    "WHERE track_id IN(\n",
    "\tSELECT track_id FROM track\n",
    "\tJOIN genre ON track.genre_id = genre.genre_id\n",
    "\tWHERE genre.name LIKE 'Rock'\n",
    ")\n",
    "ORDER BY email;'''\n",
    "\n",
    "#/* Method 2 */\n",
    "'''SELECT DISTINCT email AS Email,first_name AS FirstName, last_name AS LastName, genre.name AS Name\n",
    "FROM customer\n",
    "JOIN invoice ON invoice.customer_id = customer.customer_id\n",
    "JOIN invoiceline ON invoiceline.invoice_id = invoice.invoice_id\n",
    "JOIN track ON track.track_id = invoiceline.track_id\n",
    "JOIN genre ON genre.genre_id = track.genre_id\n",
    "WHERE genre.name LIKE 'Rock'\n",
    "ORDER BY email;'''"
   ]
  },
  {
   "cell_type": "markdown",
   "id": "127b9d28",
   "metadata": {},
   "source": [
    "## Q2: Let's invite the artists who have written the most rock music in our dataset. Write a query that returns the Artist name and total track count of the top 10 rock bands."
   ]
  },
  {
   "cell_type": "markdown",
   "id": "a95fe160",
   "metadata": {},
   "source": []
  },
  {
   "cell_type": "code",
   "execution_count": 4,
   "id": "0b899673",
   "metadata": {},
   "outputs": [
    {
     "data": {
      "text/plain": [
       "\"\\nSELECT artist.artist_id, artist.name,COUNT(artist.artist_id) AS number_of_songs\\nFROM track\\nJOIN album ON album.album_id = track.album_id\\nJOIN artist ON artist.artist_id = album.artist_id\\nJOIN genre ON genre.genre_id = track.genre_id\\nWHERE genre.name LIKE 'Rock'\\nGROUP BY artist.artist_id\\nORDER BY number_of_songs DESC\\nLIMIT 10;\\n\""
      ]
     },
     "execution_count": 4,
     "metadata": {},
     "output_type": "execute_result"
    }
   ],
   "source": [
    "'''\n",
    "SELECT artist.artist_id, artist.name,COUNT(artist.artist_id) AS number_of_songs\n",
    "FROM track\n",
    "JOIN album ON album.album_id = track.album_id\n",
    "JOIN artist ON artist.artist_id = album.artist_id\n",
    "JOIN genre ON genre.genre_id = track.genre_id\n",
    "WHERE genre.name LIKE 'Rock'\n",
    "GROUP BY artist.artist_id\n",
    "ORDER BY number_of_songs DESC\n",
    "LIMIT 10;\n",
    "'''"
   ]
  },
  {
   "cell_type": "markdown",
   "id": "eaad5dd6",
   "metadata": {},
   "source": [
    "## Q3: Return all the track names that have a song length longer than the average song length. Return the Name and Milliseconds for each track. Order by the song length with the longest songs listed first."
   ]
  },
  {
   "cell_type": "markdown",
   "id": "fba9e143",
   "metadata": {},
   "source": []
  },
  {
   "cell_type": "code",
   "execution_count": 5,
   "id": "11fc9998",
   "metadata": {},
   "outputs": [
    {
     "data": {
      "text/plain": [
       "'\\nSELECT name,miliseconds\\nFROM track\\nWHERE miliseconds > (\\n\\tSELECT AVG(miliseconds) AS avg_track_length\\n\\tFROM track )\\nORDER BY miliseconds DESC;\\n\\n'"
      ]
     },
     "execution_count": 5,
     "metadata": {},
     "output_type": "execute_result"
    }
   ],
   "source": [
    "'''\n",
    "SELECT name,miliseconds\n",
    "FROM track\n",
    "WHERE miliseconds > (\n",
    "\tSELECT AVG(miliseconds) AS avg_track_length\n",
    "\tFROM track )\n",
    "ORDER BY miliseconds DESC;\n",
    "\n",
    "'''"
   ]
  },
  {
   "cell_type": "markdown",
   "id": "76d7cd4e",
   "metadata": {},
   "source": []
  },
  {
   "cell_type": "markdown",
   "id": "29d63275",
   "metadata": {},
   "source": []
  },
  {
   "cell_type": "markdown",
   "id": "192cc65b",
   "metadata": {},
   "source": []
  },
  {
   "cell_type": "markdown",
   "id": "7b7f7e67",
   "metadata": {},
   "source": []
  },
  {
   "cell_type": "code",
   "execution_count": null,
   "id": "8bf0d09c",
   "metadata": {},
   "outputs": [],
   "source": []
  },
  {
   "cell_type": "code",
   "execution_count": null,
   "id": "b9623e09",
   "metadata": {},
   "outputs": [],
   "source": []
  },
  {
   "cell_type": "code",
   "execution_count": null,
   "id": "b313b56f",
   "metadata": {},
   "outputs": [],
   "source": []
  },
  {
   "cell_type": "code",
   "execution_count": null,
   "id": "d36b9f67",
   "metadata": {},
   "outputs": [],
   "source": []
  },
  {
   "cell_type": "code",
   "execution_count": null,
   "id": "bdf55099",
   "metadata": {},
   "outputs": [],
   "source": []
  }
 ],
 "metadata": {
  "kernelspec": {
   "display_name": "Python 3 (ipykernel)",
   "language": "python",
   "name": "python3"
  },
  "language_info": {
   "codemirror_mode": {
    "name": "ipython",
    "version": 3
   },
   "file_extension": ".py",
   "mimetype": "text/x-python",
   "name": "python",
   "nbconvert_exporter": "python",
   "pygments_lexer": "ipython3",
   "version": "3.10.9"
  }
 },
 "nbformat": 4,
 "nbformat_minor": 5
}
