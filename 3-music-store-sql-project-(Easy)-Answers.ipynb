{
 "cells": [
  {
   "cell_type": "markdown",
   "id": "975a0214",
   "metadata": {},
   "source": [
    "## Q1: Who is the senior most employee based on job title? */"
   ]
  },
  {
   "cell_type": "markdown",
   "id": "af2118f5",
   "metadata": {},
   "source": [
    "## \n",
    "SELECT title, last_name, first_name \n",
    "FROM employee\n",
    "ORDER BY levels DESC\n",
    "LIMIT 1"
   ]
  },
  {
   "cell_type": "markdown",
   "id": "82ec8d2b",
   "metadata": {},
   "source": [
    "## Q2: Which countries have the most Invoices?"
   ]
  },
  {
   "cell_type": "markdown",
   "id": "2e9de0c9",
   "metadata": {},
   "source": [
    "## \n",
    "SELECT COUNT(*) AS c, billing_country \n",
    "FROM invoice\n",
    "GROUP BY billing_country\n",
    "ORDER BY c DESC"
   ]
  },
  {
   "cell_type": "markdown",
   "id": "8deea155",
   "metadata": {},
   "source": [
    "## Q3: What are top 3 values of total invoice?"
   ]
  },
  {
   "cell_type": "markdown",
   "id": "e7a4cac3",
   "metadata": {},
   "source": [
    "## \n",
    "SELECT total \n",
    "FROM invoice\n",
    "ORDER BY total DESC"
   ]
  },
  {
   "cell_type": "markdown",
   "id": "5c6cf832",
   "metadata": {},
   "source": [
    "## Q4: Which city has the best customers? We would like to throw a promotional Music Festival in the city we made the most money. Write a query that returns one city that has the highest sum of invoice totals. Return both the city name & sum of all invoice totals\n",
    "\n"
   ]
  },
  {
   "cell_type": "markdown",
   "id": "94e03d7d",
   "metadata": {},
   "source": [
    "## \n",
    "SELECT billing_city,SUM(total) AS InvoiceTotal\n",
    "FROM invoice\n",
    "GROUP BY billing_city\n",
    "ORDER BY InvoiceTotal DESC\n",
    "LIMIT 1;"
   ]
  },
  {
   "cell_type": "markdown",
   "id": "09f6eaa4",
   "metadata": {},
   "source": [
    "## Q5: Who is the best customer? The customer who has spent the most money will be declared the best customer. Write a query that returns the person who has spent the most money."
   ]
  },
  {
   "cell_type": "markdown",
   "id": "7431be60",
   "metadata": {},
   "source": [
    "## \n",
    "SELECT customer.customer_id, first_name, last_name, SUM(total) AS total_spending\n",
    "FROM customer\n",
    "JOIN invoice ON customer.customer_id = invoice.customer_id\n",
    "GROUP BY customer.customer_id\n",
    "ORDER BY total_spending DESC\n",
    "LIMIT 1;"
   ]
  },
  {
   "cell_type": "code",
   "execution_count": null,
   "id": "8644d6d0",
   "metadata": {},
   "outputs": [],
   "source": []
  },
  {
   "cell_type": "code",
   "execution_count": null,
   "id": "c3ace420",
   "metadata": {},
   "outputs": [],
   "source": []
  },
  {
   "cell_type": "code",
   "execution_count": null,
   "id": "2043c601",
   "metadata": {},
   "outputs": [],
   "source": []
  },
  {
   "cell_type": "code",
   "execution_count": null,
   "id": "72570399",
   "metadata": {},
   "outputs": [],
   "source": []
  },
  {
   "cell_type": "code",
   "execution_count": null,
   "id": "3219d639",
   "metadata": {},
   "outputs": [],
   "source": []
  }
 ],
 "metadata": {
  "kernelspec": {
   "display_name": "Python 3 (ipykernel)",
   "language": "python",
   "name": "python3"
  },
  "language_info": {
   "codemirror_mode": {
    "name": "ipython",
    "version": 3
   },
   "file_extension": ".py",
   "mimetype": "text/x-python",
   "name": "python",
   "nbconvert_exporter": "python",
   "pygments_lexer": "ipython3",
   "version": "3.10.9"
  }
 },
 "nbformat": 4,
 "nbformat_minor": 5
}
