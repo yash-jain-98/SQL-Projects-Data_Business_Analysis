{
 "cells": [
  {
   "cell_type": "markdown",
   "id": "3756a88a",
   "metadata": {},
   "source": [
    "## Q1) Total Trips"
   ]
  },
  {
   "cell_type": "markdown",
   "id": "e638b9d5",
   "metadata": {},
   "source": [
    "### \n",
    "SELECT COUNT(DISTINCT tripid) FROM trip_details;"
   ]
  },
  {
   "attachments": {
    "image.png": {
     "image/png": "[encoded data removed]"
    }
   },
   "cell_type": "markdown",
   "id": "43cf8864",
   "metadata": {},
   "source": [
    "### ![image.png](attachment:image.png)"
   ]
  },
  {
   "cell_type": "markdown",
   "id": "61269839",
   "metadata": {},
   "source": [
    "## Q2) Total Drivers"
   ]
  },
  {
   "cell_type": "markdown",
   "id": "bc281169",
   "metadata": {},
   "source": [
    "### \n",
    "SELECT COUNT(DISTINCT driverid) FROM trips;"
   ]
  },
  {
   "attachments": {
    "image.png": {
     "image/png": "[encoded data removed]"
    }
   },
   "cell_type": "markdown",
   "id": "e717b5f2",
   "metadata": {},
   "source": [
    "### ![image.png](attachment:image.png)"
   ]
  },
  {
   "cell_type": "markdown",
   "id": "d9449fdf",
   "metadata": {},
   "source": [
    "## Q3) Total Earnings"
   ]
  },
  {
   "cell_type": "markdown",
   "id": "85f9da20",
   "metadata": {},
   "source": [
    "### SELECT SUM(fare) fare FROM trips;"
   ]
  },
  {
   "attachments": {
    "image.png": {
     "image/png": "[encoded data removed]"
    }
   },
   "cell_type": "markdown",
   "id": "14148c31",
   "metadata": {},
   "source": [
    "### ![image.png](attachment:image.png)"
   ]
  },
  {
   "cell_type": "markdown",
   "id": "c338afdd",
   "metadata": {},
   "source": [
    "## Q4) Total Completed Trips"
   ]
  },
  {
   "cell_type": "markdown",
   "id": "8cf69853",
   "metadata": {},
   "source": [
    "### SELECT COUNT(DISTINCT tripid) trips FROM trips;"
   ]
  },
  {
   "attachments": {
    "image.png": {
     "image/png": "[encoded data removed]"
    }
   },
   "cell_type": "markdown",
   "id": "20586312",
   "metadata": {},
   "source": [
    "### ![image.png](attachment:image.png)"
   ]
  },
  {
   "cell_type": "markdown",
   "id": "6f6f7a6a",
   "metadata": {},
   "source": [
    "## Q5) Total Searches"
   ]
  },
  {
   "cell_type": "markdown",
   "id": "98c4d4da",
   "metadata": {},
   "source": [
    "### SELECT SUM(searches) searches FROM trip_details;"
   ]
  },
  {
   "attachments": {
    "image.png": {
     "image/png": "[encoded data removed]"
    }
   },
   "cell_type": "markdown",
   "id": "54ecb238",
   "metadata": {},
   "source": [
    "### ![image.png](attachment:image.png)"
   ]
  },
  {
   "cell_type": "markdown",
   "id": "8e33d8ec",
   "metadata": {},
   "source": [
    "## Q6) Total Searches which got estimate"
   ]
  },
  {
   "cell_type": "markdown",
   "id": "bded2513",
   "metadata": {},
   "source": [
    "### SELECT SUM(searches_got_estimate) searches FROM trip_details;"
   ]
  },
  {
   "attachments": {
    "image.png": {
     "image/png": "[encoded data removed]"
    }
   },
   "cell_type": "markdown",
   "id": "f0a491e3",
   "metadata": {},
   "source": [
    "### ![image.png](attachment:image.png)"
   ]
  },
  {
   "cell_type": "markdown",
   "id": "75a0d696",
   "metadata": {},
   "source": [
    "## Q7) Total Searches for quotes"
   ]
  },
  {
   "cell_type": "markdown",
   "id": "c733748f",
   "metadata": {},
   "source": [
    "### SELECT SUM(searches_for_quotes) searches FROM trip_details;"
   ]
  },
  {
   "attachments": {
    "image.png": {
     "image/png": "[encoded data removed]"
    }
   },
   "cell_type": "markdown",
   "id": "3617320c",
   "metadata": {},
   "source": [
    "### ![image.png](attachment:image.png)"
   ]
  },
  {
   "cell_type": "markdown",
   "id": "b86da28d",
   "metadata": {},
   "source": [
    "## Q8) Total Searches which got Quotes"
   ]
  },
  {
   "cell_type": "markdown",
   "id": "af0c56a5",
   "metadata": {},
   "source": [
    "### SELECT SUM(searches_got_quotes) searches FROM trip_details;"
   ]
  },
  {
   "attachments": {
    "image.png": {
     "image/png": "[encoded data removed]"
    }
   },
   "cell_type": "markdown",
   "id": "8d941141",
   "metadata": {},
   "source": [
    "### ![image.png](attachment:image.png)"
   ]
  },
  {
   "cell_type": "markdown",
   "id": "d5bd5fdd",
   "metadata": {},
   "source": [
    "## Q9) Total Driver Cancelled"
   ]
  },
  {
   "cell_type": "markdown",
   "id": "f06949a6",
   "metadata": {},
   "source": [
    "### SELECT COUNT(*)-SUM(driver_not_cancelled) searches FROM trip_details;"
   ]
  },
  {
   "attachments": {
    "image.png": {
     "image/png": "[encoded data removed]"
    }
   },
   "cell_type": "markdown",
   "id": "480890ef",
   "metadata": {},
   "source": [
    "### ![image.png](attachment:image.png)"
   ]
  },
  {
   "cell_type": "markdown",
   "id": "52b8af8c",
   "metadata": {},
   "source": [
    "## Q10) Total OTP Entered"
   ]
  },
  {
   "cell_type": "markdown",
   "id": "60e28bbd",
   "metadata": {},
   "source": [
    "### SELECT SUM(otp_entered) searches FROM trip_details;"
   ]
  },
  {
   "attachments": {
    "image.png": {
     "image/png": "[encoded data removed]"
    }
   },
   "cell_type": "markdown",
   "id": "5903ed4c",
   "metadata": {},
   "source": [
    "### ![image.png](attachment:image.png)"
   ]
  },
  {
   "cell_type": "markdown",
   "id": "30fa8018",
   "metadata": {},
   "source": [
    "## Q11) Total End Ride"
   ]
  },
  {
   "cell_type": "markdown",
   "id": "86334a46",
   "metadata": {},
   "source": [
    "### SELECT SUM(end_ride) rides FROM trip_details;"
   ]
  },
  {
   "attachments": {
    "image.png": {
     "image/png": "[encoded data removed]"
    }
   },
   "cell_type": "markdown",
   "id": "b2d049f6",
   "metadata": {},
   "source": [
    "### ![image.png](attachment:image.png)"
   ]
  },
  {
   "cell_type": "markdown",
   "id": "8f31c7c5",
   "metadata": {},
   "source": [
    "## Q12) Average Distance Per Trip"
   ]
  },
  {
   "cell_type": "markdown",
   "id": "c72cac1f",
   "metadata": {},
   "source": [
    "### SELECT AVG(distance) FROM trips;"
   ]
  },
  {
   "attachments": {
    "image.png": {
     "image/png": "[encoded data removed]"
    }
   },
   "cell_type": "markdown",
   "id": "acbf945e",
   "metadata": {},
   "source": [
    "### ![image.png](attachment:image.png)"
   ]
  },
  {
   "cell_type": "markdown",
   "id": "645e27de",
   "metadata": {},
   "source": [
    "## Q13) Average fare Per Trip"
   ]
  },
  {
   "cell_type": "markdown",
   "id": "175ae4ca",
   "metadata": {},
   "source": [
    "### SELECT AVG(fare) FROM trips;"
   ]
  },
  {
   "attachments": {
    "image.png": {
     "image/png": "[encoded data removed]"
    }
   },
   "cell_type": "markdown",
   "id": "d980dd56",
   "metadata": {},
   "source": [
    "### ![image.png](attachment:image.png)"
   ]
  },
  {
   "cell_type": "markdown",
   "id": "cab00821",
   "metadata": {},
   "source": [
    "## Q14) Distance Travelled"
   ]
  },
  {
   "cell_type": "markdown",
   "id": "b3c0416b",
   "metadata": {},
   "source": [
    "### SELECT SUM(distance) FROM trips;"
   ]
  },
  {
   "attachments": {
    "image.png": {
     "image/png": "[encoded data removed]"
    }
   },
   "cell_type": "markdown",
   "id": "f5d975f5",
   "metadata": {},
   "source": [
    "### ![image.png](attachment:image.png)"
   ]
  },
  {
   "cell_type": "markdown",
   "id": "7e73a07d",
   "metadata": {},
   "source": [
    "## Q15) Which 2 locations had the most trips ?"
   ]
  },
  {
   "cell_type": "markdown",
   "id": "5d433ee6-da2d-45b0-9d6d-55318814daca",
   "metadata": {},
   "source": [
    "### \n",
    "SELECT loc_from,loc_to,COUNT(DISTINCT tripid) FROM trips\r\n",
    "GROUP BY loc_from, loc_to\r\n",
    "ORDER BY COUNT(DISTINCT tripid) DESC;"
   ]
  },
  {
   "attachments": {
    "320c60bb-a98a-4300-aa60-1b6aea9e7ef7.png": {
     "image/png": "[encoded data removed]"
    }
   },
   "cell_type": "markdown",
   "id": "cdf0f420-467a-4c3b-91cc-b57a3e4b15ef",
   "metadata": {},
   "source": [
    "### ![image.png](attachment:320c60bb-a98a-4300-aa60-1b6aea9e7ef7.png)"
   ]
  },
  {
   "cell_type": "markdown",
   "id": "031fa37c-acb1-4c5e-9ea4-a633a387fd5e",
   "metadata": {},
   "source": [
    "## Q16) Top 5 earnings driver"
   ]
  },
  {
   "cell_type": "markdown",
   "id": "a90f1770-4db9-4165-bd80-098696bff085",
   "metadata": {},
   "source": [
    "### \n",
    "SELECT driverid,SUM(fare) FROM trips\r\n",
    "GROUP BY driverid\r\n",
    "ORDER BY SUM(fare) DESC;"
   ]
  },
  {
   "attachments": {
    "051535eb-d2d3-4412-93e8-e28535f49f86.png": {
     "image/png": "[encoded data removed]"
    }
   },
   "cell_type": "markdown",
   "id": "b90d3abc-a969-4a6e-a989-5b255717334d",
   "metadata": {},
   "source": [
    "### ![image.png](attachment:051535eb-d2d3-4412-93e8-e28535f49f86.png)"
   ]
  },
  {
   "cell_type": "markdown",
   "id": "fdb20536-47c6-4ce3-97cc-88a01d8e1d47",
   "metadata": {},
   "source": [
    "## Q17) Which Duration had more trips ?"
   ]
  },
  {
   "cell_type": "markdown",
   "id": "b5c62452-f645-4192-a4dc-878f142a2e6d",
   "metadata": {},
   "source": [
    "### \n",
    "SELECT *, rank() over(ORDER BY cnt DESC) rnk FROM\r\n",
    "(SELECT duration, COUNT(DISTINCT tripid) cnt FROM trips\r\n",
    "GROUP BY duration)b;"
   ]
  },
  {
   "attachments": {
    "bf840167-1760-4a16-9f17-02cec7f09548.png": {
     "image/png": "[encoded data removed]"
    }
   },
   "cell_type": "markdown",
   "id": "55b66a63-2f36-4995-862d-578e0116f1b8",
   "metadata": {},
   "source": [
    "### ![image.png](attachment:bf840167-1760-4a16-9f17-02cec7f09548.png)\n",
    "### as you can see that rank had been given according to trips but now we want to filter out the data whose rank is 1"
   ]
  },
  {
   "cell_type": "markdown",
   "id": "054768f4-6ec3-4946-8e12-efbd9b2a9bdf",
   "metadata": {},
   "source": [
    "### \n",
    "SELECT * FROM\r\n",
    "(SELECT *, rank() over(ORDER BY cnt DESC) rnk FROM\r\n",
    "(SELECT duration, COUNT(DISTINCT tripid) cnt FROM trips\r\n",
    "GROUP BY duration)b)c\r\n",
    "WHERE rnk=1;"
   ]
  },
  {
   "attachments": {
    "b72cf771-a801-4058-8b2a-edb61dbc1ce4.png": {
     "image/png": "[encoded data removed]"
    }
   },
   "cell_type": "markdown",
   "id": "dc29267b-7298-488b-ab89-80064b6e6057",
   "metadata": {},
   "source": [
    "### ![image.png](attachment:b72cf771-a801-4058-8b2a-edb61dbc1ce4.png)\n",
    "### as you can see that duration 1 had most number of trips i.e. 53"
   ]
  },
  {
   "cell_type": "markdown",
   "id": "bda86289-65e4-474b-b959-7d73fc1e2998",
   "metadata": {},
   "source": [
    "## Q18) Search to estimate rates"
   ]
  },
  {
   "cell_type": "markdown",
   "id": "8b227987-91b4-41f1-a82b-de95c53e0fd4",
   "metadata": {},
   "source": [
    "### SELECT SUM(searches_got_estimate)*100/ SUM(searches) FROM trip_details;"
   ]
  },
  {
   "attachments": {
    "5b877e49-6a89-4178-a8a8-ca5ff20c9748.png": {
     "image/png": "[encoded data removed]"
    }
   },
   "cell_type": "markdown",
   "id": "998b840c-236b-4a2c-ac3a-bef2aba7c0af",
   "metadata": {},
   "source": [
    "### ![image.png](attachment:5b877e49-6a89-4178-a8a8-ca5ff20c9748.png)"
   ]
  },
  {
   "cell_type": "markdown",
   "id": "48a8ebe3-0376-48bf-bc51-48a8483896a1",
   "metadata": {},
   "source": [
    "## Q19) Which area got the highest fares, cancellations ?"
   ]
  },
  {
   "cell_type": "markdown",
   "id": "abbfecd5-fa76-4aff-a909-349c5d238c18",
   "metadata": {},
   "source": [
    "### \n",
    "SELECT * FROM (SELECT*,rank() over(ORDER BY fare DESC) rnk\r\n",
    "FROM\r\n",
    "(SELECT loc_from, SUM(fare) fare FROM trips\r\n",
    "GROUP BY loc_from)b)c\r\n",
    "WHERE rnk=1;"
   ]
  },
  {
   "attachments": {
    "33a9f7a2-9cf2-4fbd-ba29-5ee51666789e.png": {
     "image/png": "[encoded data removed]"
    }
   },
   "cell_type": "markdown",
   "id": "e4f9724b-9470-416c-8bd2-91da7ff33d42",
   "metadata": {},
   "source": [
    "### ![image.png](attachment:33a9f7a2-9cf2-4fbd-ba29-5ee51666789e.png)\n",
    "### as we can see that location number 6 had the highest fares"
   ]
  },
  {
   "cell_type": "markdown",
   "id": "35dbe84e-f99c-4eac-9022-4dee4a83d312",
   "metadata": {},
   "source": [
    "### \n",
    "SELECT * FROM (SELECT *, rank() over(ORDER BY can desc) rnk\r\n",
    "FROM\r\n",
    "(SELECT loc_from, COUNT(*)-SUM(driver_not_cancelled) can\r\n",
    "FROM trip_details\r\n",
    "GROUP BY loc_from)b)c\r\n",
    "WHERE rnk=1;"
   ]
  },
  {
   "attachments": {
    "5fb57372-49d5-4026-914b-0590ebc147d8.png": {
     "image/png": "[encoded data removed]"
    }
   },
   "cell_type": "markdown",
   "id": "d6ec4167-301d-4c5f-adfb-60d894c2635b",
   "metadata": {},
   "source": [
    "### ![image.png](attachment:5fb57372-49d5-4026-914b-0590ebc147d8.png)\n",
    "### As you can see that location number 1 had the highest cancellation from driver side"
   ]
  },
  {
   "cell_type": "markdown",
   "id": "23f61bd9-2521-450d-9848-ada9a7540580",
   "metadata": {},
   "source": [
    "### \n",
    "SELECT * FROM (SELECT *,rank() over(ORDER BY can DESC) rnk\r\n",
    "FROM\r\n",
    "(\r\n",
    "SELECT loc_from, COUNT(*)-sum(customer_not_cancelled) can\r\n",
    "FROM trip_details\r\n",
    "GROUP BY loc_from)b)c\r\n",
    "WHERE rnk=1;"
   ]
  },
  {
   "attachments": {
    "0c7903a3-4e49-4539-956c-457674a583cd.png": {
     "image/png": "[encoded data removed]"
    }
   },
   "cell_type": "markdown",
   "id": "986778e1-be70-4e68-9386-8bdea34d23ba",
   "metadata": {},
   "source": [
    "### ![image.png](attachment:0c7903a3-4e49-4539-956c-457674a583cd.png)\n",
    "### as you can see that location number 4 had the highest cancellation from customer side"
   ]
  },
  {
   "cell_type": "code",
   "execution_count": null,
   "id": "411ce9d7-79f8-48ec-985e-d33c8f8f6a6a",
   "metadata": {},
   "outputs": [],
   "source": []
  },
  {
   "cell_type": "code",
   "execution_count": null,
   "id": "0f284423",
   "metadata": {},
   "outputs": [],
   "source": []
  },
  {
   "cell_type": "code",
   "execution_count": null,
   "id": "5add9ba5",
   "metadata": {},
   "outputs": [],
   "source": []
  },
  {
   "cell_type": "code",
   "execution_count": null,
   "id": "09fedbc2",
   "metadata": {},
   "outputs": [],
   "source": []
  },
  {
   "cell_type": "code",
   "execution_count": null,
   "id": "e2dddf9d",
   "metadata": {},
   "outputs": [],
   "source": []
  },
  {
   "cell_type": "code",
   "execution_count": null,
   "id": "2ce4b94b",
   "metadata": {},
   "outputs": [],
   "source": []
  },
  {
   "cell_type": "code",
   "execution_count": null,
   "id": "9a9ab194",
   "metadata": {},
   "outputs": [],
   "source": []
  },
  {
   "cell_type": "code",
   "execution_count": null,
   "id": "4c4ca375",
   "metadata": {},
   "outputs": [],
   "source": []
  }
 ],
 "metadata": {
  "kernelspec": {
   "display_name": "Python 3 (ipykernel)",
   "language": "python",
   "name": "python3"
  },
  "language_info": {
   "codemirror_mode": {
    "name": "ipython",
    "version": 3
   },
   "file_extension": ".py",
   "mimetype": "text/x-python",
   "name": "python",
   "nbconvert_exporter": "python",
   "pygments_lexer": "ipython3",
   "version": "3.12.4"
  }
 },
 "nbformat": 4,
 "nbformat_minor": 5
}
