{
 "cells": [
  {
   "cell_type": "markdown",
   "id": "df2021d4",
   "metadata": {},
   "source": [
    "## Create a new database named \"Zomatosqlproject\""
   ]
  },
  {
   "cell_type": "markdown",
   "id": "0db96787",
   "metadata": {},
   "source": [
    "### Copy Paster the following code to enter data into the database & create new tables\n",
    "drop table if exists goldusers_signup;\n",
    "CREATE TABLE goldusers_signup(userid integer,gold_signup_date date); \n",
    "\n",
    "INSERT INTO goldusers_signup(userid,gold_signup_date) \n",
    " VALUES (1,'09-22-2017'),\n",
    "(3,'04-21-2017');\n",
    "\n",
    "drop table if exists users;\n",
    "CREATE TABLE users(userid integer,signup_date date); \n",
    "\n",
    "INSERT INTO users(userid,signup_date) \n",
    " VALUES (1,'09-02-2014'),\n",
    "(2,'01-15-2015'),\n",
    "(3,'04-11-2014');\n",
    "\n",
    "drop table if exists sales;\n",
    "CREATE TABLE sales(userid integer,created_date date,product_id integer); \n",
    "\n",
    "INSERT INTO sales(userid,created_date,product_id) \n",
    " VALUES (1,'04-19-2017',2),\n",
    "(3,'12-18-2019',1),\n",
    "(2,'07-20-2020',3),\n",
    "(1,'10-23-2019',2),\n",
    "(1,'03-19-2018',3),\n",
    "(3,'12-20-2016',2),\n",
    "(1,'11-09-2016',1),\n",
    "(1,'05-20-2016',3),\n",
    "(2,'09-24-2017',1),\n",
    "(1,'03-11-2017',2),\n",
    "(1,'03-11-2016',1),\n",
    "(3,'11-10-2016',1),\n",
    "(3,'12-07-2017',2),\n",
    "(3,'12-15-2016',2),\n",
    "(2,'11-08-2017',2),\n",
    "(2,'09-10-2018',3);\n",
    "\n",
    "\n",
    "drop table if exists product;\n",
    "CREATE TABLE product(product_id integer,product_name text,price integer); \n",
    "\n",
    "INSERT INTO product(product_id,product_name,price) \n",
    " VALUES\n",
    "(1,'p1',980),\n",
    "(2,'p2',870),\n",
    "(3,'p3',330);\n",
    "\n",
    "\n",
    "select * from sales;\n",
    "select * from product;\n",
    "select * from goldusers_signup;\n",
    "select * from users;"
   ]
  },
  {
   "cell_type": "markdown",
   "id": "ef15823a",
   "metadata": {},
   "source": [
    "## Q1) What is the total amount each customer spent on zomato ?"
   ]
  },
  {
   "cell_type": "markdown",
   "id": "f52dac62",
   "metadata": {},
   "source": [
    "### SELECT a.userid, a.product_id,b.price FROM sales a INNER JOIN product b ON a.product_id=b.product_id;\n",
    "This will bring us the order id, product id & price, now we will group them so that we get the total amount spent"
   ]
  },
  {
   "attachments": {
    "image.png": {
     "image/png": "[encoded data removed]"
    }
   },
   "cell_type": "markdown",
   "id": "b0286119",
   "metadata": {},
   "source": [
    "### ![image.png](attachment:image.png)"
   ]
  },
  {
   "cell_type": "markdown",
   "id": "80a95a13",
   "metadata": {},
   "source": [
    "### As you can see the total amount spent by each customer as shown below\n",
    "SELECT a.userid,sum(b.price) total_amt_spent FROM sales a INNER JOIN product b ON a.product_id=b.product_id\n",
    "GROUP BY a.userid;"
   ]
  },
  {
   "attachments": {
    "image.png": {
     "image/png": "[encoded data removed]"
    }
   },
   "cell_type": "markdown",
   "id": "29a6d68f",
   "metadata": {},
   "source": [
    "### ![image.png](attachment:image.png)"
   ]
  },
  {
   "cell_type": "markdown",
   "id": "f8d34075",
   "metadata": {},
   "source": [
    "## Q2) How many days has each customer visited zomato ?"
   ]
  },
  {
   "cell_type": "markdown",
   "id": "d7c2d598",
   "metadata": {},
   "source": [
    "### \n",
    "SELECT userid, COUNT(DISTINCT created_date) distinct_days FROM sales\n",
    "GROUP BY userid;"
   ]
  },
  {
   "cell_type": "markdown",
   "id": "30026649",
   "metadata": {},
   "source": [
    "## Q3) What is the most purchased item on the menu & how many times it was purchased by all customers ?"
   ]
  },
  {
   "cell_type": "markdown",
   "id": "4f0aab77",
   "metadata": {},
   "source": [
    "### \n",
    "SELECT product_id, COUNT(product_id) FROM sales\n",
    "GROUP BY product_id\n",
    "ORDER BY COUNT(product_id) DESC;"
   ]
  },
  {
   "attachments": {
    "image.png": {
     "image/png": "[encoded data removed]"
    }
   },
   "cell_type": "markdown",
   "id": "ddc2ad8a",
   "metadata": {},
   "source": [
    "### ![image.png](attachment:image.png)"
   ]
  },
  {
   "cell_type": "markdown",
   "id": "13204ea4",
   "metadata": {},
   "source": [
    "### As we can see that product id 2 is the most purchased item on the menu\n",
    "SELECT product_id, COUNT(product_id) cnt FROM sales\n",
    "GROUP BY product_id\n",
    "ORDER BY COUNT(product_id) DESC LIMIT 1;"
   ]
  },
  {
   "attachments": {
    "image.png": {
     "image/png": "[encoded data removed]"
    }
   },
   "cell_type": "markdown",
   "id": "630dfe93",
   "metadata": {},
   "source": [
    "### ![image.png](attachment:image.png)"
   ]
  },
  {
   "cell_type": "markdown",
   "id": "fefa0f23",
   "metadata": {},
   "source": [
    "### \n",
    "SELECT userid, COUNT(product_id) cnt FROM sales \n",
    "WHERE product_id=(SELECT product_id FROM sales\n",
    "GROUP BY product_id\n",
    "ORDER BY COUNT(product_id) DESC LIMIT 1)\n",
    "GROUP BY userid;"
   ]
  },
  {
   "attachments": {
    "image.png": {
     "image/png": "[encoded data removed]"
    }
   },
   "cell_type": "markdown",
   "id": "51d09efe",
   "metadata": {},
   "source": [
    "### ![image.png](attachment:image.png)"
   ]
  },
  {
   "cell_type": "markdown",
   "id": "45d92936",
   "metadata": {},
   "source": [
    "## Q4) Which item was first purchased by customer after they become a member ?"
   ]
  },
  {
   "cell_type": "markdown",
   "id": "48411a22",
   "metadata": {},
   "source": [
    "### \n",
    "SELECT a.userid, a.created_date, a.product_id, b.gold_signup_date \n",
    "FROM sales a INNER JOIN goldusers_signup b on a.userid=b.userid;"
   ]
  },
  {
   "cell_type": "markdown",
   "id": "ae72fe0c",
   "metadata": {},
   "source": []
  },
  {
   "cell_type": "code",
   "execution_count": null,
   "id": "987bd2d7",
   "metadata": {},
   "outputs": [],
   "source": []
  },
  {
   "cell_type": "code",
   "execution_count": null,
   "id": "2c5b8936",
   "metadata": {},
   "outputs": [],
   "source": []
  },
  {
   "cell_type": "code",
   "execution_count": null,
   "id": "62e47a25",
   "metadata": {},
   "outputs": [],
   "source": []
  },
  {
   "cell_type": "code",
   "execution_count": null,
   "id": "bc5f597a",
   "metadata": {},
   "outputs": [],
   "source": []
  },
  {
   "cell_type": "code",
   "execution_count": null,
   "id": "18a3a33e",
   "metadata": {},
   "outputs": [],
   "source": []
  },
  {
   "cell_type": "code",
   "execution_count": null,
   "id": "359ba89a",
   "metadata": {},
   "outputs": [],
   "source": []
  }
 ],
 "metadata": {
  "kernelspec": {
   "display_name": "Python 3 (ipykernel)",
   "language": "python",
   "name": "python3"
  },
  "language_info": {
   "codemirror_mode": {
    "name": "ipython",
    "version": 3
   },
   "file_extension": ".py",
   "mimetype": "text/x-python",
   "name": "python",
   "nbconvert_exporter": "python",
   "pygments_lexer": "ipython3",
   "version": "3.10.9"
  }
 },
 "nbformat": 4,
 "nbformat_minor": 5
}
