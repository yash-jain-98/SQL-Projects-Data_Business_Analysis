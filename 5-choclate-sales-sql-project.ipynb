{
 "cells": [
  {
   "cell_type": "markdown",
   "id": "52bd03e8",
   "metadata": {},
   "source": [
    "## Easy Questions"
   ]
  },
  {
   "cell_type": "markdown",
   "id": "cb2d875c",
   "metadata": {},
   "source": [
    "## Q1) Select everything from sales table"
   ]
  },
  {
   "cell_type": "markdown",
   "id": "c076f0e8",
   "metadata": {},
   "source": [
    "### select * from sales;"
   ]
  },
  {
   "cell_type": "markdown",
   "id": "c20d89bc",
   "metadata": {},
   "source": [
    "## Q2) Show SaleDate, Amount, Customers columns from sales table"
   ]
  },
  {
   "cell_type": "markdown",
   "id": "2b00cab7",
   "metadata": {},
   "source": [
    "### select SaleDate, Amount, Customers from sales;"
   ]
  },
  {
   "cell_type": "markdown",
   "id": "ac98a998",
   "metadata": {},
   "source": [
    "## Q3) Add a calculated column \"Amount / boxes\" "
   ]
  },
  {
   "cell_type": "markdown",
   "id": "2b43d479",
   "metadata": {},
   "source": [
    "### Select SaleDate, Amount, Boxes, Amount / boxes  from sales;"
   ]
  },
  {
   "cell_type": "markdown",
   "id": "0bb2c51b",
   "metadata": {},
   "source": [
    "## Q4) Naming \"Amount/boxes\" as \"Amount per box\""
   ]
  },
  {
   "cell_type": "markdown",
   "id": "484f3171",
   "metadata": {},
   "source": [
    "### Select SaleDate, Amount, Boxes, Amount / boxes as 'Amount per box'  from sales;"
   ]
  },
  {
   "cell_type": "markdown",
   "id": "1cf9cedd",
   "metadata": {},
   "source": [
    "## Q5) Show data where sales amount > 10000"
   ]
  },
  {
   "cell_type": "markdown",
   "id": "7d0c17a7",
   "metadata": {},
   "source": [
    "### \n",
    "select * from sales\n",
    "where amount > 10000;"
   ]
  },
  {
   "cell_type": "markdown",
   "id": "b0eb0d89",
   "metadata": {},
   "source": [
    "## Q6) Show sales data where amount is greater than 10,000 by descending order"
   ]
  },
  {
   "cell_type": "markdown",
   "id": "35660a35",
   "metadata": {},
   "source": [
    "### \n",
    "select * from sales\n",
    "where amount > 10000\n",
    "order by amount desc;"
   ]
  },
  {
   "cell_type": "markdown",
   "id": "94f4b822",
   "metadata": {},
   "source": [
    "## Q7) Show sales data where geography is g1 by product ID & descending order of amounts"
   ]
  },
  {
   "cell_type": "markdown",
   "id": "51a50e45",
   "metadata": {},
   "source": [
    "### \n",
    "select * from sales\n",
    "where geoid='g1'\n",
    "order by PID, Amount desc;"
   ]
  },
  {
   "cell_type": "markdown",
   "id": "408738e3",
   "metadata": {},
   "source": [
    "## Q8) Show data where amount is greater than 10000 & sales data >2022-01-01"
   ]
  },
  {
   "cell_type": "markdown",
   "id": "c3d034d0",
   "metadata": {},
   "source": [
    "### \n",
    "Select * from sales\n",
    "where amount > 10000 and SaleDate >= '2022-01-01';"
   ]
  },
  {
   "cell_type": "markdown",
   "id": "5acbb64d",
   "metadata": {},
   "source": [
    "## Q9) Show the data with amount greater than 10000 & year 2022"
   ]
  },
  {
   "cell_type": "markdown",
   "id": "f1734804",
   "metadata": {},
   "source": [
    "### \n",
    "select SaleDate, Amount from sales\n",
    "where amount > 10000 and year(SaleDate) = 2022\n",
    "order by amount desc;"
   ]
  },
  {
   "cell_type": "markdown",
   "id": "c177e74c",
   "metadata": {},
   "source": [
    "## Q10) Show data where number of boxes are greater than 0 & less than 50"
   ]
  },
  {
   "cell_type": "markdown",
   "id": "c02c207e",
   "metadata": {},
   "source": [
    "### \n",
    "select * from sales\n",
    "where boxes >0 and boxes <=50;"
   ]
  },
  {
   "cell_type": "markdown",
   "id": "5d1b0c87",
   "metadata": {},
   "source": [
    "## Q11) show data from people table where team is either delish or jucies"
   ]
  },
  {
   "cell_type": "markdown",
   "id": "7eac908b",
   "metadata": {},
   "source": [
    "### \n",
    "select * from people\n",
    "where team = 'Delish' or team = 'Jucies';"
   ]
  },
  {
   "cell_type": "markdown",
   "id": "d0da6350",
   "metadata": {},
   "source": [
    "## Q12) Select the data from people table where salesperson name starts with B"
   ]
  },
  {
   "cell_type": "markdown",
   "id": "03ec5696",
   "metadata": {},
   "source": [
    "### \n",
    "select * from people\n",
    "where salesperson like 'B%';"
   ]
  },
  {
   "cell_type": "markdown",
   "id": "2d2c3ab0",
   "metadata": {},
   "source": [
    "## INTERMEDIATE PROBLEMS:"
   ]
  },
  {
   "cell_type": "markdown",
   "id": "a40f6346",
   "metadata": {},
   "source": [
    "## Q13) Print details of shipments (sales) where amounts are > 2,000 and boxes are <100?"
   ]
  },
  {
   "cell_type": "markdown",
   "id": "c9f47be8",
   "metadata": {},
   "source": [
    "### \n",
    "select * from sales where amount > 2000 and boxes < 100;"
   ]
  },
  {
   "cell_type": "markdown",
   "id": "acd23095",
   "metadata": {},
   "source": [
    "## Q14) How many shipments (sales) each of the sales persons had in the month of January 2022?"
   ]
  },
  {
   "cell_type": "markdown",
   "id": "567298d6",
   "metadata": {},
   "source": [
    "### \n",
    "select p.Salesperson, count(*) as ‘Shipment Count’\n",
    "from sales s\n",
    "join people p on s.spid = p.spid\n",
    "where SaleDate between ‘2022-1-1’ and ‘2022-1-31’\n",
    "group by p.Salesperson;"
   ]
  },
  {
   "cell_type": "markdown",
   "id": "77e494db",
   "metadata": {},
   "source": [
    "## Q15) Which product sells more boxes? Milk Bars or Eclairs?"
   ]
  },
  {
   "cell_type": "markdown",
   "id": "91c452b5",
   "metadata": {},
   "source": [
    "### \n",
    "select pr.product, sum(boxes) as ‘Total Boxes’\n",
    "from sales s\n",
    "join products pr on s.pid = pr.pid\n",
    "where pr.Product in (‘Milk Bars’, ‘Eclairs’)\n",
    "group by pr.product;"
   ]
  },
  {
   "cell_type": "markdown",
   "id": "b2796b05",
   "metadata": {},
   "source": [
    "## Q16) Which product sold more boxes in the first 7 days of February 2022? Milk Bars or Eclairs?"
   ]
  },
  {
   "cell_type": "markdown",
   "id": "1498f426",
   "metadata": {},
   "source": [
    "### \n",
    "select pr.product, sum(boxes) as ‘Total Boxes’\n",
    "from sales s\n",
    "join products pr on s.pid = pr.pid\n",
    "where pr.Product in (‘Milk Bars’, ‘Eclairs’)\n",
    "and s.saledate between ‘2022-2-1’ and ‘2022-2-7’\n",
    "group by pr.product;"
   ]
  },
  {
   "cell_type": "markdown",
   "id": "abfb0cad",
   "metadata": {},
   "source": [
    "## Q17) Which shipments had under 100 customers & under 100 boxes? Did any of them occur on Wednesday?"
   ]
  },
  {
   "cell_type": "markdown",
   "id": "c4ed5518",
   "metadata": {},
   "source": [
    "### \n",
    "select * from sales\n",
    "where customers < 100 and boxes < 100;\n",
    "\n",
    "select *,\n",
    "case when weekday(saledate)=2 then ‘Wednesday Shipment’\n",
    "else ”\n",
    "end as ‘W Shipment’\n",
    "from sales\n",
    "where customers < 100 and boxes < 100;"
   ]
  },
  {
   "cell_type": "markdown",
   "id": "8d39b697",
   "metadata": {},
   "source": [
    "## HARD PROBLEMS:"
   ]
  },
  {
   "cell_type": "markdown",
   "id": "8618a3ff",
   "metadata": {},
   "source": [
    "## Q18) What are the names of salespersons who had at least one shipment (sale) in the first 7 days of January 2022?"
   ]
  },
  {
   "cell_type": "markdown",
   "id": "f8a4f8e0",
   "metadata": {},
   "source": [
    "### \n",
    "select distinct p.Salesperson\n",
    "from sales s\n",
    "join people p on p.spid = s.SPID\n",
    "where s.SaleDate between ‘2022-01-01’ and ‘2022-01-07’;"
   ]
  },
  {
   "cell_type": "markdown",
   "id": "cb8ccc90",
   "metadata": {},
   "source": [
    "## Q19) Which salespersons did not make any shipments in the first 7 days of January 2022?"
   ]
  },
  {
   "cell_type": "markdown",
   "id": "076f4de8",
   "metadata": {},
   "source": [
    "### \n",
    "select p.salesperson\n",
    "from people p\n",
    "where p.spid not in\n",
    "(select distinct s.spid from sales s where s.SaleDate between ‘2022-01-01’ and ‘2022-01-07’);"
   ]
  },
  {
   "cell_type": "markdown",
   "id": "3ff56f82",
   "metadata": {},
   "source": [
    "## Q20) How many times we shipped more than 1,000 boxes in each month?"
   ]
  },
  {
   "cell_type": "markdown",
   "id": "65d39ca6",
   "metadata": {},
   "source": [
    "### \n",
    "select year(saledate) ‘Year’, month(saledate) ‘Month’, count(*) ‘Times we shipped 1k boxes’\n",
    "from sales\n",
    "where boxes>1000\n",
    "group by year(saledate), month(saledate)\n",
    "order by year(saledate), month(saledate);"
   ]
  },
  {
   "cell_type": "markdown",
   "id": "034d4398",
   "metadata": {},
   "source": [
    "## Q21)  India or Australia? Who buys more chocolate boxes on a monthly basis?"
   ]
  },
  {
   "cell_type": "markdown",
   "id": "22dc5f28",
   "metadata": {},
   "source": [
    "### \n",
    "select year(saledate) ‘Year’, month(saledate) ‘Month’,\n",
    "sum(CASE WHEN g.geo=’India’ = 1 THEN boxes ELSE 0 END) ‘India Boxes’,\n",
    "sum(CASE WHEN g.geo=’Australia’ = 1 THEN boxes ELSE 0 END) ‘Australia Boxes’\n",
    "from sales s\n",
    "join geo g on g.GeoID=s.GeoID\n",
    "group by year(saledate), month(saledate)\n",
    "order by year(saledate), month(saledate);"
   ]
  },
  {
   "cell_type": "code",
   "execution_count": null,
   "id": "6b860752",
   "metadata": {},
   "outputs": [],
   "source": []
  },
  {
   "cell_type": "code",
   "execution_count": null,
   "id": "c89b3528",
   "metadata": {},
   "outputs": [],
   "source": []
  },
  {
   "cell_type": "code",
   "execution_count": null,
   "id": "c789dbf9",
   "metadata": {},
   "outputs": [],
   "source": []
  }
 ],
 "metadata": {
  "kernelspec": {
   "display_name": "Python 3 (ipykernel)",
   "language": "python",
   "name": "python3"
  },
  "language_info": {
   "codemirror_mode": {
    "name": "ipython",
    "version": 3
   },
   "file_extension": ".py",
   "mimetype": "text/x-python",
   "name": "python",
   "nbconvert_exporter": "python",
   "pygments_lexer": "ipython3",
   "version": "3.10.9"
  }
 },
 "nbformat": 4,
 "nbformat_minor": 5
}
