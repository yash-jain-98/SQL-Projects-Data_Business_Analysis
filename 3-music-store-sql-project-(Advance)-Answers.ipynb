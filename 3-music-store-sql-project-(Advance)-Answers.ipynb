{
 "cells": [
  {
   "cell_type": "markdown",
   "id": "3edd78a9",
   "metadata": {},
   "source": [
    "## Q1: Find how much amount spent by each customer on artists? Write a query to return customer name, artist name and total spent"
   ]
  },
  {
   "cell_type": "markdown",
   "id": "3ee16a8e",
   "metadata": {},
   "source": []
  },
  {
   "cell_type": "code",
   "execution_count": 1,
   "id": "15565ae0",
   "metadata": {},
   "outputs": [
    {
     "data": {
      "text/plain": [
       "'Steps to Solve: First, find which artist has earned the most according to the InvoiceLines. Now use this artist to find \\nwhich customer spent the most on this artist. For this query, you will need to use the Invoice, InvoiceLine, Track, Customer, \\nAlbum, and Artist tables. Note, this one is tricky because the Total spent in the Invoice table might not be on a single product, \\nso you need to use the InvoiceLine table to find out how many of each product was purchased, and then multiply this by the price\\nfor each artist.'"
      ]
     },
     "execution_count": 1,
     "metadata": {},
     "output_type": "execute_result"
    }
   ],
   "source": [
    "'''Steps to Solve: First, find which artist has earned the most according to the InvoiceLines. Now use this artist to find \n",
    "which customer spent the most on this artist. For this query, you will need to use the Invoice, InvoiceLine, Track, Customer, \n",
    "Album, and Artist tables. Note, this one is tricky because the Total spent in the Invoice table might not be on a single product, \n",
    "so you need to use the InvoiceLine table to find out how many of each product was purchased, and then multiply this by the price\n",
    "for each artist.'''"
   ]
  },
  {
   "cell_type": "code",
   "execution_count": 2,
   "id": "ef4c65db",
   "metadata": {},
   "outputs": [
    {
     "data": {
      "text/plain": [
       "'\\nWITH best_selling_artist AS (\\n\\tSELECT artist.artist_id AS artist_id, artist.name AS artist_name, SUM(invoice_line.unit_price*invoice_line.quantity) AS total_sales\\n\\tFROM invoice_line\\n\\tJOIN track ON track.track_id = invoice_line.track_id\\n\\tJOIN album ON album.album_id = track.album_id\\n\\tJOIN artist ON artist.artist_id = album.artist_id\\n\\tGROUP BY 1\\n\\tORDER BY 3 DESC\\n\\tLIMIT 1\\n)\\nSELECT c.customer_id, c.first_name, c.last_name, bsa.artist_name, SUM(il.unit_price*il.quantity) AS amount_spent\\nFROM invoice i\\nJOIN customer c ON c.customer_id = i.customer_id\\nJOIN invoice_line il ON il.invoice_id = i.invoice_id\\nJOIN track t ON t.track_id = il.track_id\\nJOIN album alb ON alb.album_id = t.album_id\\nJOIN best_selling_artist bsa ON bsa.artist_id = alb.artist_id\\nGROUP BY 1,2,3,4\\nORDER BY 5 DESC;\\n\\n'"
      ]
     },
     "execution_count": 2,
     "metadata": {},
     "output_type": "execute_result"
    }
   ],
   "source": [
    "'''\n",
    "WITH best_selling_artist AS (\n",
    "\tSELECT artist.artist_id AS artist_id, artist.name AS artist_name, SUM(invoice_line.unit_price*invoice_line.quantity) AS total_sales\n",
    "\tFROM invoice_line\n",
    "\tJOIN track ON track.track_id = invoice_line.track_id\n",
    "\tJOIN album ON album.album_id = track.album_id\n",
    "\tJOIN artist ON artist.artist_id = album.artist_id\n",
    "\tGROUP BY 1\n",
    "\tORDER BY 3 DESC\n",
    "\tLIMIT 1\n",
    ")\n",
    "SELECT c.customer_id, c.first_name, c.last_name, bsa.artist_name, SUM(il.unit_price*il.quantity) AS amount_spent\n",
    "FROM invoice i\n",
    "JOIN customer c ON c.customer_id = i.customer_id\n",
    "JOIN invoice_line il ON il.invoice_id = i.invoice_id\n",
    "JOIN track t ON t.track_id = il.track_id\n",
    "JOIN album alb ON alb.album_id = t.album_id\n",
    "JOIN best_selling_artist bsa ON bsa.artist_id = alb.artist_id\n",
    "GROUP BY 1,2,3,4\n",
    "ORDER BY 5 DESC;\n",
    "\n",
    "'''"
   ]
  },
  {
   "cell_type": "markdown",
   "id": "127b9d28",
   "metadata": {},
   "source": [
    "## Q2: We want to find out the most popular music Genre for each country. We determine the most popular genre as the genre with the highest amount of purchases. Write a query that returns each country along with the top Genre. For countries where the maximum number of purchases is shared return all Genres."
   ]
  },
  {
   "cell_type": "code",
   "execution_count": 3,
   "id": "125d8906",
   "metadata": {},
   "outputs": [
    {
     "data": {
      "text/plain": [
       "'Steps to Solve:  There are two parts in question- first most popular music genre and second need data at country level.'"
      ]
     },
     "execution_count": 3,
     "metadata": {},
     "output_type": "execute_result"
    }
   ],
   "source": [
    "'''Steps to Solve:  There are two parts in question- first most popular music genre and second need data at country level.'''"
   ]
  },
  {
   "cell_type": "code",
   "execution_count": 4,
   "id": "e5f06756",
   "metadata": {},
   "outputs": [
    {
     "data": {
      "text/plain": [
       "'\\nWITH popular_genre AS \\n(\\n    SELECT COUNT(invoice_line.quantity) AS purchases, customer.country, genre.name, genre.genre_id, \\n\\tROW_NUMBER() OVER(PARTITION BY customer.country ORDER BY COUNT(invoice_line.quantity) DESC) AS RowNo \\n    FROM invoice_line \\n\\tJOIN invoice ON invoice.invoice_id = invoice_line.invoice_id\\n\\tJOIN customer ON customer.customer_id = invoice.customer_id\\n\\tJOIN track ON track.track_id = invoice_line.track_id\\n\\tJOIN genre ON genre.genre_id = track.genre_id\\n\\tGROUP BY 2,3,4\\n\\tORDER BY 2 ASC, 1 DESC\\n)\\nSELECT * FROM popular_genre WHERE RowNo <= 1\\n\\n'"
      ]
     },
     "execution_count": 4,
     "metadata": {},
     "output_type": "execute_result"
    }
   ],
   "source": [
    "'''\n",
    "WITH popular_genre AS \n",
    "(\n",
    "    SELECT COUNT(invoice_line.quantity) AS purchases, customer.country, genre.name, genre.genre_id, \n",
    "\tROW_NUMBER() OVER(PARTITION BY customer.country ORDER BY COUNT(invoice_line.quantity) DESC) AS RowNo \n",
    "    FROM invoice_line \n",
    "\tJOIN invoice ON invoice.invoice_id = invoice_line.invoice_id\n",
    "\tJOIN customer ON customer.customer_id = invoice.customer_id\n",
    "\tJOIN track ON track.track_id = invoice_line.track_id\n",
    "\tJOIN genre ON genre.genre_id = track.genre_id\n",
    "\tGROUP BY 2,3,4\n",
    "\tORDER BY 2 ASC, 1 DESC\n",
    ")\n",
    "SELECT * FROM popular_genre WHERE RowNo <= 1\n",
    "\n",
    "'''"
   ]
  },
  {
   "cell_type": "markdown",
   "id": "a95fe160",
   "metadata": {},
   "source": []
  },
  {
   "cell_type": "code",
   "execution_count": null,
   "id": "dac41807",
   "metadata": {},
   "outputs": [],
   "source": []
  },
  {
   "cell_type": "markdown",
   "id": "eaad5dd6",
   "metadata": {},
   "source": [
    "## Q3: Write a query that determines the customer that has spent the most on music for each country. Write a query that returns the country along with the top customer and how much they spent. For countries where the top amount spent is shared, provide all customers who spent this amount."
   ]
  },
  {
   "cell_type": "markdown",
   "id": "fba9e143",
   "metadata": {},
   "source": []
  },
  {
   "cell_type": "code",
   "execution_count": 5,
   "id": "c3e00567",
   "metadata": {},
   "outputs": [
    {
     "data": {
      "text/plain": [
       "'\\nWITH Customter_with_country AS (\\n\\t\\tSELECT customer.customer_id,first_name,last_name,billing_country,SUM(total) AS total_spending,\\n\\t    ROW_NUMBER() OVER(PARTITION BY billing_country ORDER BY SUM(total) DESC) AS RowNo \\n\\t\\tFROM invoice\\n\\t\\tJOIN customer ON customer.customer_id = invoice.customer_id\\n\\t\\tGROUP BY 1,2,3,4\\n\\t\\tORDER BY 4 ASC,5 DESC)\\nSELECT * FROM Customter_with_country WHERE RowNo <= 1\\n\\n'"
      ]
     },
     "execution_count": 5,
     "metadata": {},
     "output_type": "execute_result"
    }
   ],
   "source": [
    "'''\n",
    "WITH Customter_with_country AS (\n",
    "\t\tSELECT customer.customer_id,first_name,last_name,billing_country,SUM(total) AS total_spending,\n",
    "\t    ROW_NUMBER() OVER(PARTITION BY billing_country ORDER BY SUM(total) DESC) AS RowNo \n",
    "\t\tFROM invoice\n",
    "\t\tJOIN customer ON customer.customer_id = invoice.customer_id\n",
    "\t\tGROUP BY 1,2,3,4\n",
    "\t\tORDER BY 4 ASC,5 DESC)\n",
    "SELECT * FROM Customter_with_country WHERE RowNo <= 1\n",
    "\n",
    "'''"
   ]
  },
  {
   "cell_type": "markdown",
   "id": "76d7cd4e",
   "metadata": {},
   "source": []
  },
  {
   "cell_type": "markdown",
   "id": "29d63275",
   "metadata": {},
   "source": []
  },
  {
   "cell_type": "markdown",
   "id": "192cc65b",
   "metadata": {},
   "source": []
  },
  {
   "cell_type": "markdown",
   "id": "7b7f7e67",
   "metadata": {},
   "source": []
  },
  {
   "cell_type": "code",
   "execution_count": null,
   "id": "8bf0d09c",
   "metadata": {},
   "outputs": [],
   "source": []
  },
  {
   "cell_type": "code",
   "execution_count": null,
   "id": "b9623e09",
   "metadata": {},
   "outputs": [],
   "source": []
  },
  {
   "cell_type": "code",
   "execution_count": null,
   "id": "b313b56f",
   "metadata": {},
   "outputs": [],
   "source": []
  },
  {
   "cell_type": "code",
   "execution_count": null,
   "id": "d36b9f67",
   "metadata": {},
   "outputs": [],
   "source": []
  },
  {
   "cell_type": "code",
   "execution_count": null,
   "id": "bdf55099",
   "metadata": {},
   "outputs": [],
   "source": []
  }
 ],
 "metadata": {
  "kernelspec": {
   "display_name": "Python 3 (ipykernel)",
   "language": "python",
   "name": "python3"
  },
  "language_info": {
   "codemirror_mode": {
    "name": "ipython",
    "version": 3
   },
   "file_extension": ".py",
   "mimetype": "text/x-python",
   "name": "python",
   "nbconvert_exporter": "python",
   "pygments_lexer": "ipython3",
   "version": "3.10.9"
  }
 },
 "nbformat": 4,
 "nbformat_minor": 5
}
